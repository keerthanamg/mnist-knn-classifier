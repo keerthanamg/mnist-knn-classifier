{
  "nbformat": 4,
  "nbformat_minor": 0,
  "metadata": {
    "colab": {
      "provenance": [],
      "authorship_tag": "ABX9TyN1QRPfhSFqBBDd0QjWwvpi",
      "include_colab_link": true
    },
    "kernelspec": {
      "name": "python3",
      "display_name": "Python 3"
    },
    "language_info": {
      "name": "python"
    }
  },
  "cells": [
    {
      "cell_type": "markdown",
      "metadata": {
        "id": "view-in-github",
        "colab_type": "text"
      },
      "source": [
        "<a href=\"https://colab.research.google.com/github/keerthanamg/mnist-knn-classifier/blob/main/mnist_knn.ipynb\" target=\"_parent\"><img src=\"https://colab.research.google.com/assets/colab-badge.svg\" alt=\"Open In Colab\"/></a>"
      ]
    },
    {
      "cell_type": "code",
      "execution_count": 1,
      "metadata": {
        "id": "cX_h-olEdyaD"
      },
      "outputs": [],
      "source": [
        "import numpy as np\n",
        "import matplotlib.pyplot as plt\n",
        "import pandas as pd\n",
        "import os\n",
        "import tensorflow as tf\n",
        "import seaborn as sns"
      ]
    },
    {
      "cell_type": "code",
      "source": [
        "mnist = tf.keras.datasets.mnist\n",
        "(X_train_full, y_train_full), (X_test, y_test) = mnist.load_data()"
      ],
      "metadata": {
        "colab": {
          "base_uri": "https://localhost:8080/"
        },
        "id": "JOi-biveeAha",
        "outputId": "7938e785-992b-41da-a9b9-58a3e54f12d7"
      },
      "execution_count": 2,
      "outputs": [
        {
          "output_type": "stream",
          "name": "stdout",
          "text": [
            "Downloading data from https://storage.googleapis.com/tensorflow/tf-keras-datasets/mnist.npz\n",
            "11490434/11490434 [==============================] - 0s 0us/step\n"
          ]
        }
      ]
    },
    {
      "cell_type": "code",
      "source": [
        "print(y_train_full.dtype, \"-\", y_train_full.shape)\n",
        "print(X_test.dtype, \"-\", X_test.shape)\n",
        "print(y_test.dtype, \"-\", y_test.shape)"
      ],
      "metadata": {
        "colab": {
          "base_uri": "https://localhost:8080/"
        },
        "id": "sh5mxOl0eF2j",
        "outputId": "a3af0720-7032-4368-f37f-468ce28f3b74"
      },
      "execution_count": 3,
      "outputs": [
        {
          "output_type": "stream",
          "name": "stdout",
          "text": [
            "uint8 - (60000,)\n",
            "uint8 - (10000, 28, 28)\n",
            "uint8 - (10000,)\n"
          ]
        }
      ]
    },
    {
      "cell_type": "code",
      "source": [
        "X_train_full[30]\n",
        "y_train_full[30]"
      ],
      "metadata": {
        "colab": {
          "base_uri": "https://localhost:8080/"
        },
        "id": "iA7qQfoYeLyZ",
        "outputId": "0a97df4a-75ee-4fdd-8d8e-9971e96c5fb6"
      },
      "execution_count": 4,
      "outputs": [
        {
          "output_type": "execute_result",
          "data": {
            "text/plain": [
              "3"
            ]
          },
          "metadata": {},
          "execution_count": 4
        }
      ]
    },
    {
      "cell_type": "code",
      "source": [
        "X_train_full = X_train_full/255.\n",
        "X_test = X_test/255."
      ],
      "metadata": {
        "id": "ran_d9IIeQGJ"
      },
      "execution_count": 5,
      "outputs": []
    },
    {
      "cell_type": "code",
      "source": [
        "X_train1 = X_train_full[:4000]\n",
        "y_train1 = y_train_full[:4000]"
      ],
      "metadata": {
        "id": "kIaElH4FeUZg"
      },
      "execution_count": 6,
      "outputs": []
    },
    {
      "cell_type": "code",
      "source": [
        "X_train1.shape\n",
        "y_train1.shape\n",
        "X_test.shape\n",
        "num_pixels = 784\n",
        "X_train1 = X_train1.reshape(X_train1.shape[0],\n",
        "num_pixels)\n",
        "X_test = X_test.reshape(X_test.shape[0],\n",
        "num_pixels)\n",
        "print(X_train1.shape)\n",
        "print(X_test.shape)"
      ],
      "metadata": {
        "colab": {
          "base_uri": "https://localhost:8080/"
        },
        "id": "0eyx_913eYAB",
        "outputId": "d3da9a42-02c2-4056-cc27-179558bbbea0"
      },
      "execution_count": 7,
      "outputs": [
        {
          "output_type": "stream",
          "name": "stdout",
          "text": [
            "(4000, 784)\n",
            "(10000, 784)\n"
          ]
        }
      ]
    },
    {
      "cell_type": "code",
      "source": [
        "from sklearn import neighbors, datasets\n",
        "from sklearn.model_selection import train_test_split\n",
        "from sklearn.metrics import confusion_matrix"
      ],
      "metadata": {
        "id": "n9uf85jOefmF"
      },
      "execution_count": 8,
      "outputs": []
    },
    {
      "cell_type": "code",
      "source": [
        "n_neighbors = 30\n",
        "n_rounds_cross_val = 30"
      ],
      "metadata": {
        "id": "OCNfGMTSeqXP"
      },
      "execution_count": 9,
      "outputs": []
    },
    {
      "cell_type": "code",
      "source": [
        "cm_prev = np.zeros((10,10))\n",
        "for i in range(n_rounds_cross_val):\n",
        "X_train2, X_test, y_train2, y_test = train_test_split(X_train1, y_train1, test_size=0.2, random_state=None,shuffle\n",
        "= True, stratify = y_train1)\n",
        "clf = neighbors.KNeighborsClassifier(n_neighbors, weights=\"uniform\")\n",
        "clf.fit(X_train2, y_train2)\n",
        "y_pred = clf.predict(X_test)\n",
        "cm_now = cm_prev + confusion_matrix(y_test, y_pred)\n",
        "cm_prev = cm_now\n",
        "o = cm_now/n_rounds_cross_val\n",
        "print(o)"
      ],
      "metadata": {
        "id": "PPlZbTMKe1pW"
      },
      "execution_count": null,
      "outputs": []
    },
    {
      "cell_type": "code",
      "source": [
        "from sklearn.metrics import plot_confusion_matrix\n",
        "plot_confusion_matrix(clf,X_test,y_test)\n",
        "plt.show()"
      ],
      "metadata": {
        "id": "zzHENDjlfCXU"
      },
      "execution_count": null,
      "outputs": []
    },
    {
      "cell_type": "code",
      "source": [],
      "metadata": {
        "id": "pG1_J663fI45"
      },
      "execution_count": null,
      "outputs": []
    }
  ]
}