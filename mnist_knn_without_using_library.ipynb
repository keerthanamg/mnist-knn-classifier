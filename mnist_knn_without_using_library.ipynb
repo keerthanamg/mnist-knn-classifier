{
  "nbformat": 4,
  "nbformat_minor": 0,
  "metadata": {
    "colab": {
      "provenance": [],
      "authorship_tag": "ABX9TyMWu2PZFjdE7YSmgawUatP2",
      "include_colab_link": true
    },
    "kernelspec": {
      "name": "python3",
      "display_name": "Python 3"
    },
    "language_info": {
      "name": "python"
    }
  },
  "cells": [
    {
      "cell_type": "markdown",
      "metadata": {
        "id": "view-in-github",
        "colab_type": "text"
      },
      "source": [
        "<a href=\"https://colab.research.google.com/github/keerthanamg/mnist-knn-classifier/blob/main/mnist_knn_without_using_library.ipynb\" target=\"_parent\"><img src=\"https://colab.research.google.com/assets/colab-badge.svg\" alt=\"Open In Colab\"/></a>"
      ]
    },
    {
      "cell_type": "code",
      "execution_count": 1,
      "metadata": {
        "id": "cXdar6QAu2gz"
      },
      "outputs": [],
      "source": [
        "import numpy as np\n",
        "import matplotlib.pyplot as plt\n",
        "import pandas as pd\n",
        "import os\n",
        "import tensorflow as tf\n",
        "import seaborn as sns"
      ]
    },
    {
      "cell_type": "code",
      "source": [
        "mnist = tf.keras.datasets.mnist\n",
        "(X_train_full, y_train_full), (X_test, y_test) = mnist.load_data()\n",
        "X_train_full = X_train_full/255.\n",
        "X_test = X_test/255.\n",
        "X_train1 = X_train_full[:4000]\n",
        "y_train1 = y_train_full[:4000]\n"
      ],
      "metadata": {
        "colab": {
          "base_uri": "https://localhost:8080/"
        },
        "id": "2D2kzBTtviMB",
        "outputId": "82934c8f-19b8-4550-8e95-ea5b9efe8769"
      },
      "execution_count": 2,
      "outputs": [
        {
          "output_type": "stream",
          "name": "stdout",
          "text": [
            "Downloading data from https://storage.googleapis.com/tensorflow/tf-keras-datasets/mnist.npz\n",
            "11490434/11490434 [==============================] - 1s 0us/step\n"
          ]
        }
      ]
    },
    {
      "cell_type": "code",
      "source": [
        "num_pixels = 784\n",
        "X_train1 = X_train1.reshape(X_train1.shape[0],\n",
        "num_pixels)\n",
        "X_test = X_test.reshape(X_test.shape[0],\n",
        "num_pixels)\n",
        "print(X_train1.shape)\n",
        "print(X_test.shape)"
      ],
      "metadata": {
        "colab": {
          "base_uri": "https://localhost:8080/"
        },
        "id": "zUt5LwmavslV",
        "outputId": "abeffd45-7c95-4d47-cec6-7858bfdb27c5"
      },
      "execution_count": 3,
      "outputs": [
        {
          "output_type": "stream",
          "name": "stdout",
          "text": [
            "(4000, 784)\n",
            "(10000, 784)\n"
          ]
        }
      ]
    },
    {
      "cell_type": "code",
      "source": [
        "y_test.shape"
      ],
      "metadata": {
        "colab": {
          "base_uri": "https://localhost:8080/"
        },
        "id": "2ay2bCN6vx4M",
        "outputId": "828d2331-0347-439f-950a-2f92320077d4"
      },
      "execution_count": 4,
      "outputs": [
        {
          "output_type": "execute_result",
          "data": {
            "text/plain": [
              "(10000,)"
            ]
          },
          "metadata": {},
          "execution_count": 4
        }
      ]
    },
    {
      "cell_type": "code",
      "source": [
        "from sklearn import datasets\n",
        "from sklearn.model_selection import train_test_split\n",
        "from sklearn.preprocessing import StandardScaler\n",
        "def most_common(lst):\n",
        "return max(set(lst), key=lst.count)\n",
        "def euclidean(point, data):\n",
        "return np.sqrt(np.sum((point - data)**2, axis=1))\n",
        "class KNeighborsClassifier:\n",
        "def __init__(self, k=30, dist_metric=euclidean):\n",
        "self.k = k\n",
        "self.dist_metric = dist_metric\n",
        "def fit(self, X_train, y_train):\n",
        "self.X_train = X_train\n",
        "self.y_train = y_train\n",
        "def predict(self, X_test):\n",
        "neighbors = []\n",
        "for x in X_test:\n",
        "distances = self.dist_metric(x, self.X_train)\n",
        "y_sorted = [y for _, y in sorted(zip(distances, self.y_train))]\n",
        "neighbors.append(y_sorted[:self.k])\n",
        "return list(map(most_common, neighbors))\n",
        "def evaluate(self, X_test, y_test):\n",
        "y_pred = self.predict(X_test)\n",
        "accuracy = sum(y_pred == y_test) / len(y_test)\n",
        "return accuracy"
      ],
      "metadata": {
        "id": "F1sYPHnOwDq_"
      },
      "execution_count": null,
      "outputs": []
    },
    {
      "cell_type": "code",
      "source": [
        "model=KNeighborsClassifier(30)\n",
        "model.fit(X_train1,y_train1)\n",
        "X_train2, X_test, y_train2, y_test = train_test_split(X_train1, y_train1, test_size=0.2, random_state=None,shuffle =\n",
        "True, stratify = y_train1)\n",
        "predictions=model.predict(X_test)\n",
        "from sklearn import neighbors, datasets\n",
        "from sklearn.metrics import confusion_matrix\n",
        "n_neighbors = 30\n",
        "n_rounds_cross_val = 30\n",
        "cm_prev = np.zeros((10,10))\n",
        "for i in range(n_rounds_cross_val):\n",
        "X_train2, X_test, y_train2, y_test = train_test_split(X_train1, y_train1, test_size=0.2, random_state=None,shuffle\n",
        "= True, stratify = y_train1)\n",
        "cm_now = cm_prev + confusion_matrix(y_test, predictions)\n",
        "cm_prev = cm_now\n",
        "o = cm_now/n_rounds_cross_val\n",
        "print(o)\n",
        "from sklearn.metrics import ConfusionMatrixDisplay\n",
        "ConfusionMatrixDisplay.from_predictions(\n",
        "y_test, predictions)\n",
        "plt.show()"
      ],
      "metadata": {
        "id": "zhZC5eavwEXu"
      },
      "execution_count": null,
      "outputs": []
    },
    {
      "cell_type": "code",
      "source": [],
      "metadata": {
        "id": "2kjq5fLzwMWQ"
      },
      "execution_count": null,
      "outputs": []
    }
  ]
}